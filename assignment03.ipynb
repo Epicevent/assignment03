{
 "cells": [
  {
   "cell_type": "markdown",
   "metadata": {},
   "source": [
    "# student id = 20152424\n",
    "# name = Rocky Kim\n",
    "# github link = https://github.com/Epicevent/assignment03"
   ]
  },
  {
   "cell_type": "markdown",
   "metadata": {},
   "source": [
    " # import pakage "
   ]
  },
  {
   "cell_type": "code",
   "execution_count": 1,
   "metadata": {},
   "outputs": [],
   "source": [
    "import numpy as np\n",
    "import matplotlib.pyplot as plt # for plot"
   ]
  },
  {
   "cell_type": "markdown",
   "metadata": {},
   "source": [
    "# define number for XCOORD,YCOORD , LABEL"
   ]
  },
  {
   "cell_type": "code",
   "execution_count": 2,
   "metadata": {},
   "outputs": [],
   "source": [
    "# for numpy array slice \n",
    "def XCOORD():\n",
    "    return 0\n",
    "\n",
    "def YCOORD():\n",
    "    return 1\n",
    "\n",
    "def LABEL():\n",
    "    return 2"
   ]
  },
  {
   "cell_type": "markdown",
   "metadata": {},
   "source": [
    "# functions for Initialize points with label "
   ]
  },
  {
   "cell_type": "code",
   "execution_count": 3,
   "metadata": {},
   "outputs": [],
   "source": [
    "'''\n",
    " just use generate_point_cluster\n",
    " sample code:\n",
    " print (genrate_point_cluster(3,5))\n",
    ">>\n",
    " [\n",
    "    [0.6747255  0.95402676 0.80973627 0.18467449 0.00710458] // it means Xcoord\n",
    "    [0.94197336 0.74692281 0.72605815 0.34252517 0.79751694] // it means Ycoord\n",
    "    [0.         2.         0.         0.         2.        ] // it means index of label (think of int)\n",
    "    ]\n",
    "\n",
    "'''\n",
    "\n",
    "\n",
    "def generate_point_cluster(number_of_clusters, number_of_points):\n",
    "    init_points = np.random.rand(2, number_of_points)\n",
    "    return initialise_label(number_of_clusters, init_points, number_of_points)\n",
    "\n",
    "\n",
    "def initialise_label(number_of_clusters, init_points, number_of_points):\n",
    "    init_labels = np.random.randint(number_of_clusters, size=(1, number_of_points))\n",
    "    return np.concatenate((init_points, init_labels), axis=0)"
   ]
  },
  {
   "cell_type": "markdown",
   "metadata": {},
   "source": [
    "# function for Compute distance"
   ]
  },
  {
   "cell_type": "code",
   "execution_count": 4,
   "metadata": {},
   "outputs": [],
   "source": [
    "def compute_distance(pair_of_points):\n",
    "    # this code use Euclidean Squared Distance Metric\n",
    "    # The Euclidean Squared distance metric uses the same equation as the Euclidean distance metric, but does not take\n",
    "    # the square root.\n",
    "    # As a result, clustering with the Euclidean Squared distance metric is faster\n",
    "    # than clustering with the regular Euclidean distance.\n",
    "    # The output of Jarvis-Patrick and K-Means clustering is not affected\n",
    "    # if Euclidean distance is replaced with Euclidean squared.However,\n",
    "    # the output of hierarchical clustering is likely to change.\n",
    "    return ((pair_of_points[0][XCOORD()] - pair_of_points[1][XCOORD()]) ** 2\n",
    "            + (pair_of_points[0][YCOORD()] - pair_of_points[1][YCOORD()]) ** 2)"
   ]
  },
  {
   "cell_type": "markdown",
   "metadata": {},
   "source": [
    "# function for Compute Centroid "
   ]
  },
  {
   "cell_type": "code",
   "execution_count": 5,
   "metadata": {},
   "outputs": [],
   "source": [
    "def compute_centroid(points_with_previous_label, number_of_cluster):\n",
    "    centroid = np.zeros((2, number_of_cluster), dtype=float) # to use for loop [i,j]\n",
    "    for label in range(number_of_cluster):\n",
    "        condition = points_with_previous_label[LABEL():] == label\n",
    "        xcenterofthecentroid = np.average(points_with_previous_label[XCOORD(), condition[0]])\n",
    "        ycenterofthecentroid = np.average(points_with_previous_label[YCOORD(), condition[0]])\n",
    "        # the centroid is avaraged point ( called gravity center in physics)\n",
    "        centroid[XCOORD(), label] = xcenterofthecentroid\n",
    "        centroid[YCOORD(), label] = ycenterofthecentroid\n",
    "    return centroid"
   ]
  },
  {
   "cell_type": "markdown",
   "metadata": {},
   "source": [
    "# base functions for assign new Label and caculate Energy"
   ]
  },
  {
   "cell_type": "code",
   "execution_count": 6,
   "metadata": {},
   "outputs": [],
   "source": [
    "def distance_of_everypoints_from_each_centroid(points_with_label, centroid, number_of_points, number_of_cluster):\n",
    "    # it returns all distance value for each centroid\n",
    "    # row means : respect with one centroid distance from each point\n",
    "    # colum means : respect with one point distance from each centroid\n",
    "    # we will use this fucntion to get minimum distance comparing another centroid\n",
    "    # and we will use this fucntion to get summation of distances from assigned label centroid\n",
    "    # to get energy\n",
    "    points = points_with_label[[XCOORD(), YCOORD()], :]\n",
    "    distance_array = np.zeros((number_of_cluster, number_of_points))\n",
    "    for i in range(number_of_points):\n",
    "        for j in range(number_of_cluster):\n",
    "            distance_array[j, i] = compute_distance((points[:, i], centroid[:, j]))\n",
    "    return distance_array"
   ]
  },
  {
   "cell_type": "markdown",
   "metadata": {},
   "source": [
    "# assign label function"
   ]
  },
  {
   "cell_type": "code",
   "execution_count": 7,
   "metadata": {},
   "outputs": [],
   "source": [
    "'''\n",
    "    'distancearray' is return value for distance_of_everypoints_ ... ()\n",
    "    sample code :\n",
    "    \n",
    "    place_to_assign_label = label_of_point(distancearray)\n",
    "    points_with_label = assign_label(points_with_label, place_to_assign_label, number_of_points)\n",
    "    \n",
    "    note: you must use both of functions \n",
    "    why : becase of debugging ,I seperate them. :>\n",
    "\n",
    "'''\n",
    "\n",
    "\n",
    "def label_of_point(distance_array):\n",
    "    return np.argmin(distancearray, axis=0)\n",
    "\n",
    "\n",
    "def assign_label(points_with_previous_label, place_to_assign_label, number_of_points):\n",
    "    for i in range(number_of_points):\n",
    "        points_with_previous_label[LABEL(), i] = place_to_assign_label[i]\n",
    "    return points_with_previous_label"
   ]
  },
  {
   "cell_type": "markdown",
   "metadata": {},
   "source": [
    "# ENERGY"
   ]
  },
  {
   "cell_type": "code",
   "execution_count": 8,
   "metadata": {},
   "outputs": [],
   "source": [
    "def caculate_energy(distance_array, label, number_of_points):\n",
    "    energy = 0\n",
    "    for i in range(number_of_points):\n",
    "        label_of_point = int(label[0,i])\n",
    "        energy += distance_array[label_of_point,i] # since My distance is squared , it Works well !\n",
    "    return energy"
   ]
  },
  {
   "cell_type": "markdown",
   "metadata": {},
   "source": [
    "# I will choose 100 points and 3 cluster\n",
    "# I will plot the points in RGB ,because number of cluster is three!"
   ]
  },
  {
   "cell_type": "code",
   "execution_count": 9,
   "metadata": {},
   "outputs": [],
   "source": [
    "def show_points_with_3label(points_with_label,centroid):\n",
    "    # show the points with 3 label\n",
    "    points_x =points_with_label[XCOORD(),:]\n",
    "    points_y = points_with_label[YCOORD(),:]\n",
    "    pos_label_0 = (points_with_label==0)[LABEL(),:]\n",
    "    plt.plot(points_x[pos_label_0],points_y[pos_label_0],'ro') # red \n",
    "    pos_label_1 = (points_with_label==1)[LABEL(),:]\n",
    "    plt.plot(points_x[pos_label_1],points_y[pos_label_1],'go')  # green\n",
    "    pos_label_2 = (points_with_label==2)[LABEL(),:]\n",
    "    plt.plot(points_x[pos_label_2],points_y[pos_label_2],'bo')  # blue\n",
    "    if len(centroid) == 0:\n",
    "        plt.show()\n",
    "        return\n",
    "    plt.plot(centroid[XCOORD(),:],centroid[YCOORD(),:],'yx')   # xshape point (Yellow)\n",
    "    plt.show()\n",
    "    return"
   ]
  },
  {
   "cell_type": "code",
   "execution_count": 10,
   "metadata": {},
   "outputs": [],
   "source": [
    "    number_of_points = 100\n",
    "    number_of_cluster = 3\n",
    "    np.set_printoptions(suppress=True)\n",
    "    points_with_label = generate_point_cluster(number_of_cluster, number_of_points)\n",
    "    previous_energy = float(\"inf\") # we will use this variable for break condition"
   ]
  },
  {
   "cell_type": "markdown",
   "metadata": {},
   "source": [
    "# Initialized DATA analysis\n",
    "# Yellow X : centroid \n",
    "# RED points : Label = 0 \n",
    "# Green points : Label = 1\n",
    "# Blue points : Label =2"
   ]
  },
  {
   "cell_type": "code",
   "execution_count": 11,
   "metadata": {},
   "outputs": [
    {
     "name": "stdout",
     "output_type": "stream",
     "text": [
      "Energy :15.775730012687976\n"
     ]
    },
    {
     "data": {
      "image/png": "[encoded data removed]",
      "text/plain": [
       "<Figure size 432x288 with 1 Axes>"
      ]
     },
     "metadata": {
      "needs_background": "light"
     },
     "output_type": "display_data"
    }
   ],
   "source": [
    "        centroid = compute_centroid(points_with_label, number_of_cluster)\n",
    "\n",
    "\n",
    "        distancearray = distance_of_everypoints_from_each_centroid(points_with_label, centroid,\n",
    "                                                     number_of_points, number_of_cluster)\n",
    "        energy = caculate_energy(distancearray, points_with_label[LABEL():], number_of_points)\n",
    "        print(\"Energy :\"+str(energy)) # show first Energy\n",
    "        show_points_with_3label(points_with_label, centroid) #plot"
   ]
  },
  {
   "cell_type": "markdown",
   "metadata": {},
   "source": [
    "INPUT DATA AND INITIAL LABEL"
   ]
  },
  {
   "cell_type": "code",
   "execution_count": 12,
   "metadata": {},
   "outputs": [],
   "source": [
    "        place_to_assign_label = label_of_point(distancearray)\n",
    "        points_with_label = assign_label(points_with_label, place_to_assign_label, number_of_points)\n",
    "        if energy == previous_energy:\n",
    "            print(\"END OVER\")\n",
    "        #show the points with label\n",
    "        previous_energy = energy"
   ]
  },
  {
   "cell_type": "markdown",
   "metadata": {},
   "source": [
    "SINCE it dose not print \"END OVER\" the second data will be different from inital data"
   ]
  },
  {
   "cell_type": "code",
   "execution_count": 13,
   "metadata": {},
   "outputs": [
    {
     "name": "stdout",
     "output_type": "stream",
     "text": [
      "9.597300518942621\n"
     ]
    },
    {
     "data": {
      "image/png": "[encoded data removed]",
      "text/plain": [
       "<Figure size 432x288 with 1 Axes>"
      ]
     },
     "metadata": {
      "needs_background": "light"
     },
     "output_type": "display_data"
    }
   ],
   "source": [
    "        centroid = compute_centroid(points_with_label, number_of_cluster)\n",
    "        # the second Centroid !\n",
    "\n",
    "        distancearray = distance_of_everypoints_from_each_centroid(points_with_label, centroid,\n",
    "                                                     number_of_points, number_of_cluster)\n",
    "        energy = caculate_energy(distancearray, points_with_label[LABEL():], number_of_points)\n",
    "        print(energy)\n",
    "        show_points_with_3label(points_with_label, centroid)"
   ]
  },
  {
   "cell_type": "markdown",
   "metadata": {},
   "source": [
    "after first step"
   ]
  },
  {
   "cell_type": "markdown",
   "metadata": {},
   "source": [
    "# get LAST DATA "
   ]
  },
  {
   "cell_type": "code",
   "execution_count": 14,
   "metadata": {},
   "outputs": [
    {
     "name": "stdout",
     "output_type": "stream",
     "text": [
      "ENERGY for each iteration: 6.930202733146922\n",
      "ENERGY for each iteration: 6.048488109695745\n",
      "ENERGY for each iteration: 6.022149600423773\n",
      "ENERGY for each iteration: 6.01468539023451\n",
      "LAST ENERGY : 6.01468539023451\n"
     ]
    },
    {
     "data": {
      "image/png": "[encoded data removed]",
      "text/plain": [
       "<Figure size 432x288 with 1 Axes>"
      ]
     },
     "metadata": {
      "needs_background": "light"
     },
     "output_type": "display_data"
    }
   ],
   "source": [
    "place_to_assign_label = label_of_point(distancearray)\n",
    "points_with_label = assign_label(points_with_label, place_to_assign_label, number_of_points)\n",
    "while (True): # the code will loop until find LAST DATA\n",
    "    centroid = compute_centroid(points_with_label, number_of_cluster)\n",
    "    distancearray = distance_of_everypoints_from_each_centroid(points_with_label, centroid,\n",
    "                                             number_of_points, number_of_cluster)\n",
    "    energy = caculate_energy(distancearray, points_with_label[LABEL():], number_of_points)\n",
    "    place_to_assign_label = label_of_point(distancearray)\n",
    "    points_with_label = assign_label(points_with_label, place_to_assign_label, number_of_points)\n",
    "    if energy == previous_energy:\n",
    "        break\n",
    "    print(\"ENERGY for each iteration: \" + str(energy))\n",
    "    previous_energy = energy\n",
    "#show the points with label (final) and energy (final)\n",
    "print(\"LAST ENERGY : \",end=\"\")\n",
    "print(energy)\n",
    "show_points_with_3label(points_with_label, centroid)"
   ]
  },
  {
   "cell_type": "markdown",
   "metadata": {},
   "source": [
    "Final label and Final centroid "
   ]
  },
  {
   "cell_type": "markdown",
   "metadata": {},
   "source": [
    "Yellow X : centroid RED points : Label = 0 Green points : Label = 1 Blue points : Label =2"
   ]
  },
  {
   "cell_type": "code",
   "execution_count": null,
   "metadata": {},
   "outputs": [],
   "source": []
  }
 ],
 "metadata": {
  "kernelspec": {
   "display_name": "Python 3",
   "language": "python",
   "name": "python3"
  },
  "language_info": {
   "codemirror_mode": {
    "name": "ipython",
    "version": 3
   },
   "file_extension": ".py",
   "mimetype": "text/x-python",
   "name": "python",
   "nbconvert_exporter": "python",
   "pygments_lexer": "ipython3",
   "version": "3.7.0"
  }
 },
 "nbformat": 4,
 "nbformat_minor": 2
}
